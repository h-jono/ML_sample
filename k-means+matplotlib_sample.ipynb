{
 "cells": [
  {
   "cell_type": "code",
   "execution_count": 1,
   "id": "85d2b402",
   "metadata": {},
   "outputs": [
    {
     "data": {
      "image/png": "[encoded data removed]",
      "text/plain": [
       "<Figure size 432x288 with 1 Axes>"
      ]
     },
     "metadata": {
      "needs_background": "light"
     },
     "output_type": "display_data"
    }
   ],
   "source": [
    "# k-平均法 ＋　グラフ表示\n",
    "import numpy as np\n",
    "from sklearn import cluster\n",
    "import matplotlib.pyplot as plt\n",
    "\n",
    "# データ用意\n",
    "data=[\n",
    "[1, 2],\n",
    "[3, 1],\n",
    "[2, 3],\n",
    "[3, 6],\n",
    "[4, 6],\n",
    "[7, 2],\n",
    "[7, 4],\n",
    "]\n",
    "data=np.array(data)\n",
    "\n",
    "# k-means モデル作成\n",
    "# クラスタ数 3 で指定\n",
    "model = cluster.KMeans(n_clusters=3)\n",
    "model.fit(data)\n",
    "# クラスタリング結果ラベルの取得\n",
    "labels = model.labels_\n",
    "\n",
    "# 結果をグラフに\n",
    "plt.figure(1)\n",
    "# ラベル 0 の描画\n",
    "ldata = data[labels == 0]\n",
    "plt.scatter(ldata[:, 0], ldata[:, 1], marker='s', color='green')\n",
    "# ラベル 1 の描画\n",
    "ldata = data[labels == 1]\n",
    "plt.scatter(ldata[:, 0], ldata[:, 1], marker='o', color='red')\n",
    "# ラベル 2 の描画\n",
    "ldata = data[labels == 2]\n",
    "plt.scatter(ldata[:, 0], ldata[:, 1], marker='^', color='blue')\n",
    "#　タイトルとx軸、y軸ラベルの設定\n",
    "plt.title(\"Scatter Plot of Clustered Data\")\n",
    "plt.xlabel(\"x\")\n",
    "plt.ylabel(\"y\")\n",
    "plt.grid()\n",
    "plt.show()"
   ]
  },
  {
   "cell_type": "code",
   "execution_count": null,
   "id": "4d4fa16a",
   "metadata": {},
   "outputs": [],
   "source": []
  }
 ],
 "metadata": {
  "kernelspec": {
   "display_name": "Python 3",
   "language": "python",
   "name": "python3"
  },
  "language_info": {
   "codemirror_mode": {
    "name": "ipython",
    "version": 3
   },
   "file_extension": ".py",
   "mimetype": "text/x-python",
   "name": "python",
   "nbconvert_exporter": "python",
   "pygments_lexer": "ipython3",
   "version": "3.7.10"
  }
 },
 "nbformat": 4,
 "nbformat_minor": 5
}
